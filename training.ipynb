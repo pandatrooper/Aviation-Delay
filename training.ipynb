{
 "cells": [
  {
   "cell_type": "code",
   "execution_count": 21,
   "metadata": {},
   "outputs": [],
   "source": [
    "import datetime, warnings, scipy \n",
    "import pandas as pd\n",
    "import numpy as np\n",
    "import seaborn as sns\n",
    "import matplotlib as mpl\n",
    "import matplotlib.pyplot as plt\n",
    "import matplotlib.patches as patches\n",
    "from matplotlib.patches import ConnectionPatch\n",
    "from collections import OrderedDict\n",
    "from matplotlib.gridspec import GridSpec\n",
    "from mpl_toolkits.basemap import Basemap\n",
    "from sklearn import metrics, linear_model\n",
    "from sklearn.preprocessing import PolynomialFeatures, StandardScaler\n",
    "from sklearn.preprocessing import LabelEncoder, OneHotEncoder\n",
    "from sklearn.model_selection import train_test_split, cross_val_score, cross_val_predict\n",
    "from scipy.optimize import curve_fit\n",
    "plt.rcParams[\"patch.force_edgecolor\"] = True\n",
    "plt.style.use('fivethirtyeight')\n",
    "mpl.rc('patch', edgecolor = 'dimgray', linewidth=1)\n",
    "from IPython.core.interactiveshell import InteractiveShell\n",
    "InteractiveShell.ast_node_interactivity = \"last_expr\"\n",
    "pd.options.display.max_columns = 50\n",
    "%matplotlib inline\n",
    "warnings.filterwarnings(\"ignore\")\n",
    "from sklearn.externals import joblib"
   ]
  },
  {
   "cell_type": "code",
   "execution_count": 22,
   "metadata": {},
   "outputs": [],
   "source": [
    "df=pd.read_csv('final.csv')"
   ]
  },
  {
   "cell_type": "code",
   "execution_count": 23,
   "metadata": {},
   "outputs": [
    {
     "data": {
      "text/plain": [
       "(431420, 32)"
      ]
     },
     "execution_count": 23,
     "metadata": {},
     "output_type": "execute_result"
    }
   ],
   "source": [
    "df.shape"
   ]
  },
  {
   "cell_type": "code",
   "execution_count": 24,
   "metadata": {},
   "outputs": [
    {
     "data": {
      "text/plain": [
       "Index(['DAY_OF_WEEK', 'FL_DATE', 'UNIQUE_CARRIER', 'FL_NUM', 'ORIGIN', 'DEST',\n",
       "       'DEP_DELAY', 'ARR_DELAY', 'CANCELLED', 'CANCELLATION_CODE', 'DISTANCE',\n",
       "       'DEP_HOUR', 'ARR_HOUR', 'YEAR', 'MONTH', 'DAY_OF_MONTH',\n",
       "       'DEP_HOURLYVISIBILITY', 'DEP_HOURLYDRYBULBTEMPC', 'DEP_HOURLYWindSpeed',\n",
       "       'DEP_HOURLYPrecip', 'ARR_HOURLYVISIBILITY', 'ARR_HOURLYDRYBULBTEMPC',\n",
       "       'ARR_HOURLYWindSpeed', 'ARR_HOURLYPrecip', 'DEP_AVG_HOURLYVISIBILITY',\n",
       "       'DEP_AVG_HOURLYDRYBULBTEMPC', 'DEP_AVG_HOURLYWindSpeed',\n",
       "       'DEP_AVG_HOURLYPrecip', 'ARR_AVG_HOURLYVISIBILITY',\n",
       "       'ARR_AVG_HOURLYDRYBULBTEMPC', 'ARR_AVG_HOURLYWindSpeed',\n",
       "       'ARR_AVG_HOURLYPrecip'],\n",
       "      dtype='object')"
      ]
     },
     "execution_count": 24,
     "metadata": {},
     "output_type": "execute_result"
    }
   ],
   "source": [
    "df.columns"
   ]
  },
  {
   "cell_type": "code",
   "execution_count": 25,
   "metadata": {},
   "outputs": [
    {
     "data": {
      "text/plain": [
       "DAY_OF_WEEK                     int64\n",
       "FL_DATE                        object\n",
       "UNIQUE_CARRIER                 object\n",
       "FL_NUM                          int64\n",
       "ORIGIN                         object\n",
       "DEST                           object\n",
       "DEP_DELAY                     float64\n",
       "ARR_DELAY                     float64\n",
       "CANCELLED                     float64\n",
       "CANCELLATION_CODE             float64\n",
       "DISTANCE                      float64\n",
       "DEP_HOUR                        int64\n",
       "ARR_HOUR                        int64\n",
       "YEAR                            int64\n",
       "MONTH                           int64\n",
       "DAY_OF_MONTH                    int64\n",
       "DEP_HOURLYVISIBILITY          float64\n",
       "DEP_HOURLYDRYBULBTEMPC        float64\n",
       "DEP_HOURLYWindSpeed           float64\n",
       "DEP_HOURLYPrecip              float64\n",
       "ARR_HOURLYVISIBILITY          float64\n",
       "ARR_HOURLYDRYBULBTEMPC        float64\n",
       "ARR_HOURLYWindSpeed           float64\n",
       "ARR_HOURLYPrecip              float64\n",
       "DEP_AVG_HOURLYVISIBILITY      float64\n",
       "DEP_AVG_HOURLYDRYBULBTEMPC    float64\n",
       "DEP_AVG_HOURLYWindSpeed       float64\n",
       "DEP_AVG_HOURLYPrecip          float64\n",
       "ARR_AVG_HOURLYVISIBILITY      float64\n",
       "ARR_AVG_HOURLYDRYBULBTEMPC    float64\n",
       "ARR_AVG_HOURLYWindSpeed       float64\n",
       "ARR_AVG_HOURLYPrecip          float64\n",
       "dtype: object"
      ]
     },
     "execution_count": 25,
     "metadata": {},
     "output_type": "execute_result"
    }
   ],
   "source": [
    "df.dtypes"
   ]
  },
  {
   "cell_type": "code",
   "execution_count": 26,
   "metadata": {},
   "outputs": [],
   "source": [
    "df.drop(['YEAR','DAY_OF_MONTH','FL_NUM','DEP_DELAY','DEP_AVG_HOURLYVISIBILITY','DEP_AVG_HOURLYDRYBULBTEMPC','DEP_AVG_HOURLYWindSpeed','DEP_AVG_HOURLYPrecip','ARR_AVG_HOURLYVISIBILITY','ARR_AVG_HOURLYDRYBULBTEMPC','ARR_AVG_HOURLYWindSpeed','ARR_AVG_HOURLYPrecip'],axis=1, inplace=True)\n",
    "#Remove data redundancy\n",
    "df['ARR_HOUR'] = df['ARR_HOUR'].apply(lambda x:0 if x == 24 else x)\n",
    "#Drop rows with Null Values\n",
    "df.dropna(axis='columns')\n",
    "\n",
    "#Convert to Dummy Variables\n",
    "df = pd.concat([df,pd.get_dummies(df['MONTH'],drop_first=True,prefix=\"MONTH\")],axis=1)\n",
    "df = pd.concat([df,pd.get_dummies(df['DAY_OF_WEEK'],drop_first=True,prefix=\"DAY_OF_WEEK\")],axis=1)\n",
    "df = pd.concat([df,pd.get_dummies(df['UNIQUE_CARRIER'],drop_first=True,prefix=\"UNIQUE_CARRIER\")],axis=1)\n",
    "df = pd.concat([df,pd.get_dummies(df['ORIGIN'],drop_first=True,prefix=\"ORIGIN\")],axis=1)\n",
    "df = pd.concat([df,pd.get_dummies(df['DEST'],drop_first=True,prefix=\"DEST\")],axis=1)\n",
    "df = pd.concat([df,pd.get_dummies(df['DEP_HOUR'],drop_first=True,prefix=\"DEP_HOUR\")],axis=1)\n",
    "df = pd.concat([df,pd.get_dummies(df['ARR_HOUR'],drop_first=True,prefix=\"ARR_HOUR\")],axis=1)\n",
    "\n",
    "df.drop(['MONTH','DAY_OF_WEEK','UNIQUE_CARRIER','ORIGIN','DEST','DEP_HOUR','ARR_HOUR'],axis=1,inplace=True)\n",
    "#DELAY_YN -> Delay Yes or No -> 1 if Delay>5 minutes, else 0\n",
    "df['DELAY_YN'] = df['ARR_DELAY'].apply(lambda x:1 if x>=5 else 0)\n"
   ]
  },
  {
   "cell_type": "code",
   "execution_count": 27,
   "metadata": {},
   "outputs": [
    {
     "data": {
      "text/plain": [
       "(431420, 96)"
      ]
     },
     "execution_count": 27,
     "metadata": {},
     "output_type": "execute_result"
    }
   ],
   "source": [
    "df.shape"
   ]
  },
  {
   "cell_type": "code",
   "execution_count": 48,
   "metadata": {},
   "outputs": [
    {
     "data": {
      "text/plain": [
       "Index(['ARR_DELAY', 'CANCELLED', 'DISTANCE', 'DEP_HOURLYVISIBILITY',\n",
       "       'DEP_HOURLYDRYBULBTEMPC', 'DEP_HOURLYWindSpeed', 'DEP_HOURLYPrecip',\n",
       "       'ARR_HOURLYVISIBILITY', 'ARR_HOURLYDRYBULBTEMPC', 'ARR_HOURLYWindSpeed',\n",
       "       'ARR_HOURLYPrecip', 'DAY_OF_WEEK_2', 'DAY_OF_WEEK_3', 'DAY_OF_WEEK_4',\n",
       "       'DAY_OF_WEEK_5', 'DAY_OF_WEEK_6', 'DAY_OF_WEEK_7', 'UNIQUE_CARRIER_AA',\n",
       "       'UNIQUE_CARRIER_AS', 'UNIQUE_CARRIER_DL', 'UNIQUE_CARRIER_EV',\n",
       "       'UNIQUE_CARRIER_F9', 'UNIQUE_CARRIER_MQ', 'UNIQUE_CARRIER_NK',\n",
       "       'UNIQUE_CARRIER_OH', 'UNIQUE_CARRIER_OO', 'UNIQUE_CARRIER_UA',\n",
       "       'UNIQUE_CARRIER_WN', 'UNIQUE_CARRIER_YV', 'UNIQUE_CARRIER_YX',\n",
       "       'ORIGIN_CLT', 'ORIGIN_DEN', 'ORIGIN_DFW', 'ORIGIN_IAH', 'ORIGIN_LAX',\n",
       "       'ORIGIN_LGA', 'ORIGIN_ORD', 'ORIGIN_PHX', 'ORIGIN_SFO', 'DEST_CLT',\n",
       "       'DEST_DEN', 'DEST_DFW', 'DEST_IAH', 'DEST_LAX', 'DEST_LGA', 'DEST_ORD',\n",
       "       'DEST_PHX', 'DEST_SFO', 'DEP_HOUR_1', 'DEP_HOUR_2', 'DEP_HOUR_4',\n",
       "       'DEP_HOUR_5', 'DEP_HOUR_6', 'DEP_HOUR_7', 'DEP_HOUR_8', 'DEP_HOUR_9',\n",
       "       'DEP_HOUR_10', 'DEP_HOUR_11', 'DEP_HOUR_12', 'DEP_HOUR_13',\n",
       "       'DEP_HOUR_14', 'DEP_HOUR_15', 'DEP_HOUR_16', 'DEP_HOUR_17',\n",
       "       'DEP_HOUR_18', 'DEP_HOUR_19', 'DEP_HOUR_20', 'DEP_HOUR_21',\n",
       "       'DEP_HOUR_22', 'DEP_HOUR_23', 'ARR_HOUR_1', 'ARR_HOUR_2', 'ARR_HOUR_3',\n",
       "       'ARR_HOUR_4', 'ARR_HOUR_5', 'ARR_HOUR_6', 'ARR_HOUR_7', 'ARR_HOUR_8',\n",
       "       'ARR_HOUR_9', 'ARR_HOUR_10', 'ARR_HOUR_11', 'ARR_HOUR_12',\n",
       "       'ARR_HOUR_13', 'ARR_HOUR_14', 'ARR_HOUR_15', 'ARR_HOUR_16',\n",
       "       'ARR_HOUR_17', 'ARR_HOUR_18', 'ARR_HOUR_19', 'ARR_HOUR_20',\n",
       "       'ARR_HOUR_21', 'ARR_HOUR_22', 'ARR_HOUR_23', 'DELAY_YN'],\n",
       "      dtype='object')"
      ]
     },
     "execution_count": 48,
     "metadata": {},
     "output_type": "execute_result"
    }
   ],
   "source": [
    "df.columns"
   ]
  },
  {
   "cell_type": "code",
   "execution_count": 28,
   "metadata": {},
   "outputs": [],
   "source": [
    "df.drop(['FL_DATE','CANCELLATION_CODE'],axis=1,inplace=True)"
   ]
  },
  {
   "cell_type": "code",
   "execution_count": 29,
   "metadata": {},
   "outputs": [
    {
     "data": {
      "text/plain": [
       "ARR_DELAY                     0\n",
       "CANCELLED                     0\n",
       "DISTANCE                      0\n",
       "DEP_HOURLYVISIBILITY      35266\n",
       "DEP_HOURLYDRYBULBTEMPC    35266\n",
       "DEP_HOURLYWindSpeed       35266\n",
       "DEP_HOURLYPrecip          35266\n",
       "ARR_HOURLYVISIBILITY      35321\n",
       "ARR_HOURLYDRYBULBTEMPC    35321\n",
       "ARR_HOURLYWindSpeed       35321\n",
       "ARR_HOURLYPrecip          35321\n",
       "DAY_OF_WEEK_2                 0\n",
       "DAY_OF_WEEK_3                 0\n",
       "DAY_OF_WEEK_4                 0\n",
       "DAY_OF_WEEK_5                 0\n",
       "DAY_OF_WEEK_6                 0\n",
       "DAY_OF_WEEK_7                 0\n",
       "UNIQUE_CARRIER_AA             0\n",
       "UNIQUE_CARRIER_AS             0\n",
       "UNIQUE_CARRIER_DL             0\n",
       "UNIQUE_CARRIER_EV             0\n",
       "UNIQUE_CARRIER_F9             0\n",
       "UNIQUE_CARRIER_MQ             0\n",
       "UNIQUE_CARRIER_NK             0\n",
       "UNIQUE_CARRIER_OH             0\n",
       "UNIQUE_CARRIER_OO             0\n",
       "UNIQUE_CARRIER_UA             0\n",
       "UNIQUE_CARRIER_WN             0\n",
       "UNIQUE_CARRIER_YV             0\n",
       "UNIQUE_CARRIER_YX             0\n",
       "                          ...  \n",
       "DEP_HOUR_18                   0\n",
       "DEP_HOUR_19                   0\n",
       "DEP_HOUR_20                   0\n",
       "DEP_HOUR_21                   0\n",
       "DEP_HOUR_22                   0\n",
       "DEP_HOUR_23                   0\n",
       "ARR_HOUR_1                    0\n",
       "ARR_HOUR_2                    0\n",
       "ARR_HOUR_3                    0\n",
       "ARR_HOUR_4                    0\n",
       "ARR_HOUR_5                    0\n",
       "ARR_HOUR_6                    0\n",
       "ARR_HOUR_7                    0\n",
       "ARR_HOUR_8                    0\n",
       "ARR_HOUR_9                    0\n",
       "ARR_HOUR_10                   0\n",
       "ARR_HOUR_11                   0\n",
       "ARR_HOUR_12                   0\n",
       "ARR_HOUR_13                   0\n",
       "ARR_HOUR_14                   0\n",
       "ARR_HOUR_15                   0\n",
       "ARR_HOUR_16                   0\n",
       "ARR_HOUR_17                   0\n",
       "ARR_HOUR_18                   0\n",
       "ARR_HOUR_19                   0\n",
       "ARR_HOUR_20                   0\n",
       "ARR_HOUR_21                   0\n",
       "ARR_HOUR_22                   0\n",
       "ARR_HOUR_23                   0\n",
       "DELAY_YN                      0\n",
       "Length: 94, dtype: int64"
      ]
     },
     "execution_count": 29,
     "metadata": {},
     "output_type": "execute_result"
    }
   ],
   "source": [
    "df.isnull().sum()"
   ]
  },
  {
   "cell_type": "code",
   "execution_count": 30,
   "metadata": {},
   "outputs": [],
   "source": [
    "df = df[pd.notnull(df['DEP_HOURLYVISIBILITY'])]\n",
    "df = df[pd.notnull(df['ARR_HOURLYVISIBILITY'])]"
   ]
  },
  {
   "cell_type": "code",
   "execution_count": 31,
   "metadata": {},
   "outputs": [
    {
     "data": {
      "text/plain": [
       "array([[  -2.,    0.,  544., ...,    0.,    0.,    0.],\n",
       "       [ -13.,    0.,  544., ...,    0.,    0.,    0.],\n",
       "       [ -21.,    0.,  544., ...,    0.,    0.,    0.],\n",
       "       ..., \n",
       "       [  11.,    0.,  762., ...,    0.,    0.,    1.],\n",
       "       [ -17.,    0.,  762., ...,    0.,    0.,    0.],\n",
       "       [   3.,    0.,  762., ...,    0.,    0.,    0.]])"
      ]
     },
     "execution_count": 31,
     "metadata": {},
     "output_type": "execute_result"
    }
   ],
   "source": [
    "np.nan_to_num(df)"
   ]
  },
  {
   "cell_type": "code",
   "execution_count": 32,
   "metadata": {},
   "outputs": [],
   "source": [
    "df.fillna(df.mean(), inplace=True)"
   ]
  },
  {
   "cell_type": "code",
   "execution_count": 29,
   "metadata": {},
   "outputs": [
    {
     "name": "stdout",
     "output_type": "stream",
     "text": [
      "Accuracy: 0.6778\n",
      "Accuracy: 0.6967\n",
      "Accuracy: 0.6824\n",
      "Accuracy: 0.6823\n",
      "Accuracy: 0.6979\n",
      "Accuracy: 0.7114\n",
      "Accuracy: 0.7059\n",
      "Accuracy: 0.711\n",
      "Accuracy: 0.673\n",
      "Accuracy: 0.6973\n"
     ]
    }
   ],
   "source": [
    "from sklearn.model_selection import train_test_split\n",
    "from sklearn.linear_model import LogisticRegression\n",
    "\n",
    "n = 10 \n",
    "for i in range(n):\n",
    "    \n",
    "    \n",
    "    df_split = df.loc[np.random.choice(df[df['DELAY_YN']==1].index, 40000, replace = True)]\n",
    "    df_split2 = df.loc[np.random.choice(df[df['DELAY_YN']==0].index, 60000, replace = False)]\n",
    "    df_split = df_split.append(df_split2, ignore_index=True)\n",
    "\n",
    "    X_train, X_test, y_train, y_test = train_test_split(df_split.drop(['DELAY_YN','ARR_DELAY'],axis=1),\n",
    "                                                    df_split['DELAY_YN'], test_size=0.10, random_state=101)\n",
    "\n",
    "    logmodel = LogisticRegression()\n",
    "    logmodel.fit(X_train,y_train)\n",
    "    \n",
    "    predictions = logmodel.predict(X_test)\n",
    "\n",
    "    truePos = X_test[((predictions == 1) & (y_test == predictions))]\n",
    "    falsePos = X_test[((predictions == 1) & (y_test != predictions))]\n",
    "    trueNeg = X_test[((predictions == 0) & (y_test == predictions))]\n",
    "    falseNeg = X_test[((predictions == 0) & (y_test != predictions))]\n",
    "\n",
    "    TP = truePos.shape[0]\n",
    "    FP = falsePos.shape[0]\n",
    "    TN = trueNeg.shape[0]\n",
    "    FN = falseNeg.shape[0]\n",
    "\n",
    "    accuracy = float(TP + TN)/float(TP + TN + FP + FN)\n",
    "    print('Accuracy: '+str(accuracy))\n",
    "    \n",
    "    joblib.dump(logmodel, str(i)+'_logmodel.pkl') "
   ]
  },
  {
   "cell_type": "code",
   "execution_count": 30,
   "metadata": {},
   "outputs": [
    {
     "name": "stdout",
     "output_type": "stream",
     "text": [
      "Accuracy: 0.70363\n",
      "Accuracy: 0.7197\n",
      "Accuracy: 0.70575\n",
      "Accuracy: 0.70323\n",
      "Accuracy: 0.71674\n",
      "Accuracy: 0.73263\n",
      "Accuracy: 0.72397\n",
      "Accuracy: 0.73458\n",
      "Accuracy: 0.70042\n",
      "Accuracy: 0.72324\n"
     ]
    }
   ],
   "source": [
    "\n",
    "df2 = df.loc[np.random.choice(df.index, 100000, replace = False)]\n",
    "X_test = df2.drop(['ARR_DELAY','DELAY_YN'],axis=1)\n",
    "y_test = df2['DELAY_YN']\n",
    "\n",
    "n = 10 #Number of models to average over\n",
    "df2['DELAY_YN'] = np.zeros(len(df2.index))\n",
    "\n",
    "for i in range(n):\n",
    "    logmodel = joblib.load(str(i)+'_logmodel.pkl') \n",
    "    predictions = logmodel.predict(X_test)\n",
    "    \n",
    "    df2['DELAY_YN'] = df2['DELAY_YN'] + logmodel.predict_proba(X_test)[:,1]\n",
    "    \n",
    "    truePos = X_test[((predictions == 1) & (y_test == predictions))]\n",
    "    falsePos = X_test[((predictions == 1) & (y_test != predictions))]\n",
    "    trueNeg = X_test[((predictions == 0) & (y_test == predictions))]\n",
    "    falseNeg = X_test[((predictions == 0) & (y_test != predictions))]\n",
    "\n",
    "    TP = truePos.shape[0]\n",
    "    FP = falsePos.shape[0]\n",
    "    TN = trueNeg.shape[0]\n",
    "    FN = falseNeg.shape[0]\n",
    "\n",
    "    accuracy = float(TP + TN)/float(TP + TN + FP + FN)\n",
    "    print('Accuracy: '+str(accuracy))"
   ]
  },
  {
   "cell_type": "code",
   "execution_count": 31,
   "metadata": {},
   "outputs": [
    {
     "name": "stdout",
     "output_type": "stream",
     "text": [
      "Final Accuracy: 0.70811\n",
      "TP: 18426\n",
      "FP: 13004\n",
      "TN: 52385\n",
      "FN: 16185\n",
      "% of positive predictions:\n",
      "0.3143\n"
     ]
    }
   ],
   "source": [
    "#Take Average of probabilities for positive class (DELAY_YN = 1). If average probability>0.5, assign value=1\n",
    "df2['DELAY_YN_vote'] = df2['DELAY_YN']/n\n",
    "df2['DELAY_YN_vote'] = df2['DELAY_YN_vote'].apply(lambda x:1 if x>0.46 else 0) #Take Vote\n",
    "\n",
    "truePos = X_test[((df2['DELAY_YN_vote'] == 1) & (y_test == df2['DELAY_YN_vote']))]\n",
    "falsePos = X_test[((df2['DELAY_YN_vote'] == 1) & (y_test != df2['DELAY_YN_vote']))]\n",
    "trueNeg = X_test[((df2['DELAY_YN_vote'] == 0) & (y_test == df2['DELAY_YN_vote']))]\n",
    "falseNeg = X_test[((df2['DELAY_YN_vote'] == 0) & (y_test != df2['DELAY_YN_vote']))]\n",
    "\n",
    "TP = truePos.shape[0]\n",
    "FP = falsePos.shape[0]\n",
    "TN = trueNeg.shape[0]\n",
    "FN = falseNeg.shape[0]\n",
    "\n",
    "accuracy = float(TP + TN)/float(TP + TN + FP + FN)\n",
    "print('Final Accuracy: '+str(accuracy))\n",
    "print('TP: '+str(TP))\n",
    "print('FP: '+str(FP))\n",
    "print('TN: '+str(TN))\n",
    "print('FN: '+str(FN))\n",
    "print('% of positive predictions:')\n",
    "print(len(df2[df2['DELAY_YN_vote']==1].index)/len(df2.index))"
   ]
  },
  {
   "cell_type": "code",
   "execution_count": 33,
   "metadata": {},
   "outputs": [
    {
     "name": "stdout",
     "output_type": "stream",
     "text": [
      "Total positive delay datapoints:125829\n"
     ]
    }
   ],
   "source": [
    "#Linear Regression on whole dataset\n",
    "df_late = df[df['DELAY_YN']==1].copy()\n",
    "df_late['log_delay'] = np.log(df_late['ARR_DELAY'])\n",
    "\n",
    "print('Total positive delay datapoints:' + str(len(df_late.index)))"
   ]
  },
  {
   "cell_type": "code",
   "execution_count": 38,
   "metadata": {},
   "outputs": [
    {
     "name": "stdout",
     "output_type": "stream",
     "text": [
      "Training...\n",
      "Predicting on test set...\n",
      "MAE: 27.8650793244\n",
      "MSE: 4460.75219248\n",
      "RMSE: 66.7888627877\n"
     ]
    },
    {
     "data": {
      "text/plain": [
       "['linearmodel.pkl']"
      ]
     },
     "execution_count": 38,
     "metadata": {},
     "output_type": "execute_result"
    }
   ],
   "source": [
    "from sklearn.model_selection import train_test_split\n",
    "X_train, X_test, y_train, y_test = train_test_split(df_late.drop(['DELAY_YN','log_delay'],axis=1), \n",
    "                                                    df_late['log_delay'], test_size=0.30, random_state=101)\n",
    "\n",
    "print('Training...')\n",
    "from sklearn.linear_model import LinearRegression\n",
    "lm = LinearRegression(normalize=True)\n",
    "lm.fit(X_train.drop('ARR_DELAY',axis=1),y_train)\n",
    "\n",
    "print('Predicting on test set...')\n",
    "predictions = lm.predict(X_test.drop('ARR_DELAY',axis=1))\n",
    "\n",
    "X_test['predicted']=[np.exp(p) for p in predictions]\n",
    "\n",
    "from sklearn import metrics\n",
    "print('MAE:', metrics.mean_absolute_error(X_test['ARR_DELAY'],X_test['predicted']))\n",
    "print('MSE:', metrics.mean_squared_error(X_test['ARR_DELAY'],X_test['predicted']))\n",
    "print('RMSE:', np.sqrt(metrics.mean_squared_error(X_test['ARR_DELAY'],X_test['predicted'])))\n",
    "\n",
    "joblib.dump(lm, 'linearmodel.pkl')"
   ]
  },
  {
   "cell_type": "code",
   "execution_count": 36,
   "metadata": {},
   "outputs": [
    {
     "name": "stdout",
     "output_type": "stream",
     "text": [
      "Training...\n",
      "Predicting on test set...\n",
      "MAE: 29.8835569275\n",
      "MSE: 4939.57130881\n",
      "RMSE: 70.2820838394\n"
     ]
    },
    {
     "data": {
      "text/plain": [
       "['linearmodel2.pkl']"
      ]
     },
     "execution_count": 36,
     "metadata": {},
     "output_type": "execute_result"
    }
   ],
   "source": [
    "from sklearn.model_selection import train_test_split\n",
    "X_train, X_test, y_train, y_test = train_test_split(df_late.drop(['DELAY_YN','log_delay'],axis=1), \n",
    "                                                    df_late['log_delay'], test_size=0.30, random_state=101)\n",
    "print('Training...')\n",
    "from sklearn.ensemble import RandomForestRegressor\n",
    "rf = RandomForestRegressor(n_estimators= 3000, max_depth= 5)\n",
    "rf.fit(X_train.drop('ARR_DELAY',axis=1),y_train)\n",
    "\n",
    "print('Predicting on test set...')\n",
    "predictions2 = rf.predict(X_test.drop('ARR_DELAY',axis=1))\n",
    "\n",
    "X_test['predicted']=[np.exp(p) for p in predictions2]\n",
    "\n",
    "from sklearn import metrics\n",
    "print('MAE:', metrics.mean_absolute_error(X_test['ARR_DELAY'],X_test['predicted']))\n",
    "print('MSE:', metrics.mean_squared_error(X_test['ARR_DELAY'],X_test['predicted']))\n",
    "print('RMSE:', np.sqrt(metrics.mean_squared_error(X_test['ARR_DELAY'],X_test['predicted'])))\n",
    "\n",
    "joblib.dump(rf, 'linearmodel2.pkl')"
   ]
  },
  {
   "cell_type": "code",
   "execution_count": 39,
   "metadata": {},
   "outputs": [
    {
     "name": "stdout",
     "output_type": "stream",
     "text": [
      "Training...\n",
      "Predicting on test set...\n",
      "MAE: 29.9851758996\n",
      "MSE: 4960.71630964\n",
      "RMSE: 70.4323527197\n"
     ]
    },
    {
     "data": {
      "text/plain": [
       "['linearmodeldtr.pkl']"
      ]
     },
     "execution_count": 39,
     "metadata": {},
     "output_type": "execute_result"
    }
   ],
   "source": [
    "from sklearn.model_selection import train_test_split\n",
    "X_train, X_test, y_train, y_test = train_test_split(df_late.drop(['DELAY_YN','log_delay'],axis=1), \n",
    "                                                    df_late['log_delay'], test_size=0.30, random_state=101)\n",
    "print('Training...')\n",
    "from sklearn.tree import DecisionTreeRegressor\n",
    "dtr = DecisionTreeRegressor(max_depth= 5)\n",
    "dtr.fit(X_train.drop('ARR_DELAY',axis=1),y_train)\n",
    "\n",
    "print('Predicting on test set...')\n",
    "predictions3 = dtr.predict(X_test.drop('ARR_DELAY',axis=1))\n",
    "\n",
    "X_test['predicted']=[np.exp(p) for p in predictions3]\n",
    "\n",
    "from sklearn import metrics\n",
    "print('MAE:', metrics.mean_absolute_error(X_test['ARR_DELAY'],X_test['predicted']))\n",
    "print('MSE:', metrics.mean_squared_error(X_test['ARR_DELAY'],X_test['predicted']))\n",
    "print('RMSE:', np.sqrt(metrics.mean_squared_error(X_test['ARR_DELAY'],X_test['predicted'])))\n",
    "\n",
    "joblib.dump(dtr, 'linearmodeldtr.pkl')"
   ]
  },
  {
   "cell_type": "code",
   "execution_count": 40,
   "metadata": {},
   "outputs": [
    {
     "name": "stdout",
     "output_type": "stream",
     "text": [
      "Training...\n",
      "Predicting on test set...\n",
      "MAE: 6.14102985453\n",
      "MSE: 155.763966643\n",
      "RMSE: 12.4805435235\n"
     ]
    }
   ],
   "source": [
    "import pandas as pd\n",
    "import numpy as np\n",
    "import xgboost as xgb\n",
    "from xgboost.sklearn import XGBClassifier\n",
    "\n",
    "from sklearn.model_selection import train_test_split\n",
    "X_train, X_test, y_train, y_test = train_test_split(df_late.drop(['DELAY_YN','log_delay'],axis=1), \n",
    "                                                    df_late['log_delay'], test_size=0.30, random_state=101)\n",
    "\n",
    "\n",
    "print('Training...')\n",
    "xg_reg = xgb.XGBRegressor(n_estimators= 3000, max_depth= 5,learning_rate =0.1)\n",
    "xg_reg.fit(X_train.drop('ARR_DELAY',axis=1),y_train)\n",
    "\n",
    "print('Predicting on test set...')\n",
    "predictions4 = xg_reg.predict(X_test.drop('ARR_DELAY',axis=1))\n",
    "\n",
    "X_test['predicted']=[np.exp(p) for p in predictions4]\n",
    "\n",
    "from sklearn import metrics\n",
    "print('MAE:', metrics.mean_absolute_error(X_test['ARR_DELAY'],X_test['predicted']))\n",
    "print('MSE:', metrics.mean_squared_error(X_test['ARR_DELAY'],X_test['predicted']))\n",
    "print('RMSE:', np.sqrt(metrics.mean_squared_error(X_test['ARR_DELAY'],X_test['predicted'])))"
   ]
  },
  {
   "cell_type": "code",
   "execution_count": 43,
   "metadata": {},
   "outputs": [
    {
     "data": {
      "image/png": "[encoded data removed]",
      "text/plain": [
       "<Figure size 432x288 with 1 Axes>"
      ]
     },
     "metadata": {
      "needs_background": "light"
     },
     "output_type": "display_data"
    }
   ],
   "source": [
    "from sklearn.model_selection import cross_val_predict\n",
    "\n",
    "fig, ax = plt.subplots()\n",
    "ax.scatter(y_test,predictions4, edgecolors=(0, 0, 0))\n",
    "ax.plot([y_test.min(), y_test.max()], [y_test.min(), y_test.max()], 'k--', lw=4)\n",
    "ax.set_xlabel('Actual')\n",
    "ax.set_ylabel('Predicted')\n",
    "ax.set_title(\"Ground Truth vs Predicted\")\n",
    "plt.show()"
   ]
  },
  {
   "cell_type": "code",
   "execution_count": 47,
   "metadata": {},
   "outputs": [
    {
     "ename": "ValueError",
     "evalue": "multiclass format is not supported",
     "output_type": "error",
     "traceback": [
      "\u001b[0;31m---------------------------------------------------------------------------\u001b[0m",
      "\u001b[0;31mValueError\u001b[0m                                Traceback (most recent call last)",
      "\u001b[0;32m<ipython-input-47-a7720a6e7241>\u001b[0m in \u001b[0;36m<module>\u001b[0;34m\u001b[0m\n\u001b[1;32m      1\u001b[0m \u001b[0;32mfrom\u001b[0m \u001b[0msklearn\u001b[0m\u001b[0;34m.\u001b[0m\u001b[0mmetrics\u001b[0m \u001b[0;32mimport\u001b[0m \u001b[0mroc_curve\u001b[0m\u001b[0;34m,\u001b[0m \u001b[0mauc\u001b[0m\u001b[0;34m,\u001b[0m\u001b[0mrecall_score\u001b[0m\u001b[0;34m,\u001b[0m\u001b[0mprecision_score\u001b[0m\u001b[0;34m\u001b[0m\u001b[0;34m\u001b[0m\u001b[0m\n\u001b[1;32m      2\u001b[0m \u001b[0;31m# Compute micro-average ROC curve and ROC area\u001b[0m\u001b[0;34m\u001b[0m\u001b[0;34m\u001b[0m\u001b[0;34m\u001b[0m\u001b[0m\n\u001b[0;32m----> 3\u001b[0;31m \u001b[0mfpr\u001b[0m\u001b[0;34m,\u001b[0m \u001b[0mtpr\u001b[0m\u001b[0;34m,\u001b[0m \u001b[0m_\u001b[0m \u001b[0;34m=\u001b[0m \u001b[0mroc_curve\u001b[0m\u001b[0;34m(\u001b[0m\u001b[0mX_test\u001b[0m\u001b[0;34m[\u001b[0m\u001b[0;34m'ARR_DELAY'\u001b[0m\u001b[0;34m]\u001b[0m\u001b[0;34m.\u001b[0m\u001b[0mvalues\u001b[0m\u001b[0;34m,\u001b[0m \u001b[0mpredictions4\u001b[0m\u001b[0;34m)\u001b[0m\u001b[0;34m\u001b[0m\u001b[0;34m\u001b[0m\u001b[0m\n\u001b[0m\u001b[1;32m      4\u001b[0m \u001b[0mroc_auc\u001b[0m \u001b[0;34m=\u001b[0m \u001b[0mauc\u001b[0m\u001b[0;34m(\u001b[0m\u001b[0mfpr\u001b[0m\u001b[0;34m,\u001b[0m \u001b[0mtpr\u001b[0m\u001b[0;34m)\u001b[0m\u001b[0;34m\u001b[0m\u001b[0;34m\u001b[0m\u001b[0m\n\u001b[1;32m      5\u001b[0m     \u001b[0;31m#xgb.plot_importance(gbm)\u001b[0m\u001b[0;34m\u001b[0m\u001b[0;34m\u001b[0m\u001b[0;34m\u001b[0m\u001b[0m\n",
      "\u001b[0;32m~/anaconda3/envs/myenv/lib/python3.6/site-packages/sklearn/metrics/ranking.py\u001b[0m in \u001b[0;36mroc_curve\u001b[0;34m(y_true, y_score, pos_label, sample_weight, drop_intermediate)\u001b[0m\n\u001b[1;32m    616\u001b[0m     \"\"\"\n\u001b[1;32m    617\u001b[0m     fps, tps, thresholds = _binary_clf_curve(\n\u001b[0;32m--> 618\u001b[0;31m         y_true, y_score, pos_label=pos_label, sample_weight=sample_weight)\n\u001b[0m\u001b[1;32m    619\u001b[0m \u001b[0;34m\u001b[0m\u001b[0m\n\u001b[1;32m    620\u001b[0m     \u001b[0;31m# Attempt to drop thresholds corresponding to points in between and\u001b[0m\u001b[0;34m\u001b[0m\u001b[0;34m\u001b[0m\u001b[0;34m\u001b[0m\u001b[0m\n",
      "\u001b[0;32m~/anaconda3/envs/myenv/lib/python3.6/site-packages/sklearn/metrics/ranking.py\u001b[0m in \u001b[0;36m_binary_clf_curve\u001b[0;34m(y_true, y_score, pos_label, sample_weight)\u001b[0m\n\u001b[1;32m    395\u001b[0m     if not (y_type == \"binary\" or\n\u001b[1;32m    396\u001b[0m             (y_type == \"multiclass\" and pos_label is not None)):\n\u001b[0;32m--> 397\u001b[0;31m         \u001b[0;32mraise\u001b[0m \u001b[0mValueError\u001b[0m\u001b[0;34m(\u001b[0m\u001b[0;34m\"{0} format is not supported\"\u001b[0m\u001b[0;34m.\u001b[0m\u001b[0mformat\u001b[0m\u001b[0;34m(\u001b[0m\u001b[0my_type\u001b[0m\u001b[0;34m)\u001b[0m\u001b[0;34m)\u001b[0m\u001b[0;34m\u001b[0m\u001b[0;34m\u001b[0m\u001b[0m\n\u001b[0m\u001b[1;32m    398\u001b[0m \u001b[0;34m\u001b[0m\u001b[0m\n\u001b[1;32m    399\u001b[0m     \u001b[0mcheck_consistent_length\u001b[0m\u001b[0;34m(\u001b[0m\u001b[0my_true\u001b[0m\u001b[0;34m,\u001b[0m \u001b[0my_score\u001b[0m\u001b[0;34m,\u001b[0m \u001b[0msample_weight\u001b[0m\u001b[0;34m)\u001b[0m\u001b[0;34m\u001b[0m\u001b[0;34m\u001b[0m\u001b[0m\n",
      "\u001b[0;31mValueError\u001b[0m: multiclass format is not supported"
     ]
    }
   ],
   "source": [
    "from sklearn.metrics import roc_curve, auc,recall_score,precision_score\n",
    "# Compute micro-average ROC curve and ROC area\n",
    "fpr, tpr, _ = roc_curve(X_test['ARR_DELAY'].values, predictions4)\n",
    "roc_auc = auc(fpr, tpr)\n",
    "    #xgb.plot_importance(gbm)\n",
    "    #plt.show()\n",
    "plt.figure()\n",
    "lw = 2\n",
    "plt.plot(fpr, tpr, color='darkorange',\n",
    "    lw=lw, label='ROC curve (area = %0.2f)' % roc_auc)\n",
    "plt.plot([0, 1], [0, 1], color='navy', lw=lw, linestyle='--')\n",
    "plt.xlim([-0.02, 1.0])\n",
    "plt.ylim([0.0, 1.05])\n",
    "plt.xlabel('False Positive Rate')\n",
    "plt.ylabel('True Positive Rate')\n",
    "plt.title('ROC curve')\n",
    "plt.legend(loc=\"lower right\")\n",
    "plt.show()"
   ]
  },
  {
   "cell_type": "code",
   "execution_count": null,
   "metadata": {},
   "outputs": [],
   "source": []
  }
 ],
 "metadata": {
  "kernelspec": {
   "display_name": "Python 3",
   "language": "python",
   "name": "python3"
  }
 },
 "nbformat": 4,
 "nbformat_minor": 2
}
